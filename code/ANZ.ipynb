{
 "cells": [
  {
   "cell_type": "code",
   "execution_count": 1,
   "metadata": {
    "scrolled": true
   },
   "outputs": [],
   "source": [
    "import pandas as pd\n",
    "from sklearn.linear_model import LinearRegression\n",
    "\n",
    "df = pd.read_excel('ANZ synthesised transaction dataset.xlsx')\n",
    "\n",
    "# 7717 comprises of SALES-POS and POS Transaction Types\n",
    "# 885 for bpay_biller_code comprises of 883 for PAY/SALARY, 1 for POS and 1 for SALES-POS\n",
    "# 883 for merchant_code are all PAY/SALARY"
   ]
  },
  {
   "cell_type": "code",
   "execution_count": 2,
   "metadata": {},
   "outputs": [],
   "source": [
    "# Extract transactions that include salary payments for customers\n",
    "salary = df[df['txn_description'] == 'PAY/SALARY']\n",
    "salary = salary.drop(['card_present_flag', 'merchant_id', 'merchant_suburb', 'merchant_state', 'merchant_long_lat'], axis=1)\n",
    "salary = pd.DataFrame(salary.groupby(['customer_id', 'date','amount','gender','age'])['amount'].unique())\n",
    "salary = salary.drop('amount', axis=1).reset_index()"
   ]
  },
  {
   "cell_type": "code",
   "execution_count": 3,
   "metadata": {},
   "outputs": [],
   "source": [
    "# Add missing data for the 16/8/18\n",
    "\n",
    "data = [{'customer_id': 'CUS-1233833708', 'date': '2018-08-16', 'amount': 596.33, 'gender': 'M', 'age': 44},\n",
    "        {'customer_id': 'CUS-1646183815', 'date': '2018-08-16', 'amount': 782.42, 'gender': 'M', 'age': 78},\n",
    "        {'customer_id': 'CUS-2283904812', 'date': '2018-08-16', 'amount': 2218.73, 'gender': 'M', 'age': 22},\n",
    "        {'customer_id': 'CUS-2599279756', 'date': '2018-08-16', 'amount': 1630.36, 'gender': 'F', 'age': 43},\n",
    "        {'customer_id': 'CUS-2630892467', 'date': '2018-08-16', 'amount': 920.71, 'gender': 'F', 'age': 26},\n",
    "        {'customer_id': 'CUS-3201519139', 'date': '2018-08-16', 'amount': 916.75, 'gender': 'M', 'age': 37},\n",
    "        {'customer_id': 'CUS-3462882033', 'date': '2018-08-16', 'amount': 3195.01, 'gender': 'M', 'age': 22},\n",
    "        {'customer_id': 'CUS-72755508', 'date': '2018-08-16', 'amount': 725.32, 'gender': 'F', 'age': 35},\n",
    "        {'customer_id': 'CUS-860700529', 'date': '2018-08-16', 'amount': 1808.62, 'gender': 'M', 'age': 30},\n",
    "        {'customer_id': 'CUS-880898248', 'date': '2018-08-16', 'amount': 1433.98, 'gender': 'M', 'age': 26}]\n",
    "\n",
    "missing = pd.DataFrame(data)\n",
    "missing['date'] = pd.to_datetime(missing['date'])\n",
    "salary  = pd.concat([salary, missing])\n",
    "salary = salary.sort_values(['customer_id', 'date'])"
   ]
  },
  {
   "cell_type": "code",
   "execution_count": 4,
   "metadata": {},
   "outputs": [],
   "source": [
    "# Calculate payment periods in days\n",
    "salary['pay_period'] = salary.groupby('customer_id')['date'].apply(lambda x: x.shift(-1) - x)\n",
    "salary['pay_period'] = salary['pay_period'].dt.days\n",
    "salary = salary.dropna()"
   ]
  },
  {
   "cell_type": "code",
   "execution_count": 5,
   "metadata": {},
   "outputs": [],
   "source": [
    "# Calculate frequency of payments per year\n",
    "salary['pay_freq'] = 52\n",
    "salary.loc[salary['pay_period'] == 14.0, 'pay_freq'] = 26\n",
    "salary.loc[salary['pay_period'] > 28.0, 'pay_freq'] = 12\n",
    "salary.loc[salary['pay_period'] > 58.0, 'pay_freq'] = 6\n",
    "salary = salary.drop(['date', 'pay_period'], axis=1)\n",
    "salary = salary.drop_duplicates()"
   ]
  },
  {
   "cell_type": "code",
   "execution_count": 6,
   "metadata": {},
   "outputs": [],
   "source": [
    "# Determine Annual Salary\n",
    "salary['annual_salary'] = salary['amount'] * salary['pay_freq']"
   ]
  },
  {
   "cell_type": "code",
   "execution_count": 7,
   "metadata": {},
   "outputs": [
    {
     "data": {
      "text/html": [
       "<div>\n",
       "<style scoped>\n",
       "    .dataframe tbody tr th:only-of-type {\n",
       "        vertical-align: middle;\n",
       "    }\n",
       "\n",
       "    .dataframe tbody tr th {\n",
       "        vertical-align: top;\n",
       "    }\n",
       "\n",
       "    .dataframe thead th {\n",
       "        text-align: right;\n",
       "    }\n",
       "</style>\n",
       "<table border=\"1\" class=\"dataframe\">\n",
       "  <thead>\n",
       "    <tr style=\"text-align: right;\">\n",
       "      <th></th>\n",
       "      <th>customer_id</th>\n",
       "      <th>amount</th>\n",
       "      <th>gender</th>\n",
       "      <th>age</th>\n",
       "      <th>pay_freq</th>\n",
       "      <th>annual_salary</th>\n",
       "    </tr>\n",
       "  </thead>\n",
       "  <tbody>\n",
       "    <tr>\n",
       "      <th>0</th>\n",
       "      <td>CUS-1005756958</td>\n",
       "      <td>970.47</td>\n",
       "      <td>F</td>\n",
       "      <td>53</td>\n",
       "      <td>52</td>\n",
       "      <td>50464.44</td>\n",
       "    </tr>\n",
       "    <tr>\n",
       "      <th>1</th>\n",
       "      <td>CUS-1117979751</td>\n",
       "      <td>3578.65</td>\n",
       "      <td>M</td>\n",
       "      <td>21</td>\n",
       "      <td>26</td>\n",
       "      <td>93044.90</td>\n",
       "    </tr>\n",
       "    <tr>\n",
       "      <th>2</th>\n",
       "      <td>CUS-1140341822</td>\n",
       "      <td>1916.51</td>\n",
       "      <td>M</td>\n",
       "      <td>28</td>\n",
       "      <td>26</td>\n",
       "      <td>49829.26</td>\n",
       "    </tr>\n",
       "    <tr>\n",
       "      <th>3</th>\n",
       "      <td>CUS-1147642491</td>\n",
       "      <td>1711.39</td>\n",
       "      <td>F</td>\n",
       "      <td>34</td>\n",
       "      <td>52</td>\n",
       "      <td>88992.28</td>\n",
       "    </tr>\n",
       "    <tr>\n",
       "      <th>4</th>\n",
       "      <td>CUS-1196156254</td>\n",
       "      <td>3903.73</td>\n",
       "      <td>F</td>\n",
       "      <td>34</td>\n",
       "      <td>26</td>\n",
       "      <td>101496.98</td>\n",
       "    </tr>\n",
       "    <tr>\n",
       "      <th>...</th>\n",
       "      <td>...</td>\n",
       "      <td>...</td>\n",
       "      <td>...</td>\n",
       "      <td>...</td>\n",
       "      <td>...</td>\n",
       "      <td>...</td>\n",
       "    </tr>\n",
       "    <tr>\n",
       "      <th>95</th>\n",
       "      <td>CUS-72755508</td>\n",
       "      <td>725.32</td>\n",
       "      <td>F</td>\n",
       "      <td>35</td>\n",
       "      <td>52</td>\n",
       "      <td>37716.64</td>\n",
       "    </tr>\n",
       "    <tr>\n",
       "      <th>96</th>\n",
       "      <td>CUS-809013380</td>\n",
       "      <td>1037.07</td>\n",
       "      <td>F</td>\n",
       "      <td>21</td>\n",
       "      <td>52</td>\n",
       "      <td>53927.64</td>\n",
       "    </tr>\n",
       "    <tr>\n",
       "      <th>97</th>\n",
       "      <td>CUS-860700529</td>\n",
       "      <td>1808.62</td>\n",
       "      <td>M</td>\n",
       "      <td>30</td>\n",
       "      <td>26</td>\n",
       "      <td>47024.12</td>\n",
       "    </tr>\n",
       "    <tr>\n",
       "      <th>98</th>\n",
       "      <td>CUS-880898248</td>\n",
       "      <td>1433.98</td>\n",
       "      <td>M</td>\n",
       "      <td>26</td>\n",
       "      <td>26</td>\n",
       "      <td>37283.48</td>\n",
       "    </tr>\n",
       "    <tr>\n",
       "      <th>99</th>\n",
       "      <td>CUS-883482547</td>\n",
       "      <td>3977.46</td>\n",
       "      <td>F</td>\n",
       "      <td>19</td>\n",
       "      <td>26</td>\n",
       "      <td>103413.96</td>\n",
       "    </tr>\n",
       "  </tbody>\n",
       "</table>\n",
       "<p>100 rows × 6 columns</p>\n",
       "</div>"
      ],
      "text/plain": [
       "       customer_id   amount gender  age  pay_freq  annual_salary\n",
       "0   CUS-1005756958   970.47      F   53        52       50464.44\n",
       "1   CUS-1117979751  3578.65      M   21        26       93044.90\n",
       "2   CUS-1140341822  1916.51      M   28        26       49829.26\n",
       "3   CUS-1147642491  1711.39      F   34        52       88992.28\n",
       "4   CUS-1196156254  3903.73      F   34        26      101496.98\n",
       "..             ...      ...    ...  ...       ...            ...\n",
       "95    CUS-72755508   725.32      F   35        52       37716.64\n",
       "96   CUS-809013380  1037.07      F   21        52       53927.64\n",
       "97   CUS-860700529  1808.62      M   30        26       47024.12\n",
       "98   CUS-880898248  1433.98      M   26        26       37283.48\n",
       "99   CUS-883482547  3977.46      F   19        26      103413.96\n",
       "\n",
       "[100 rows x 6 columns]"
      ]
     },
     "execution_count": 7,
     "metadata": {},
     "output_type": "execute_result"
    }
   ],
   "source": [
    "salary.reset_index(drop=True, inplace=True)\n",
    "salary"
   ]
  },
  {
   "cell_type": "code",
   "execution_count": 8,
   "metadata": {},
   "outputs": [],
   "source": [
    "# Export csv file containing the customer id and annual salary\n",
    "annual_salary = salary.drop(['amount', 'gender', 'age', 'pay_freq'], axis=1)\n",
    "export_csv = annual_salary.to_csv (r'annual_salary.csv', header=True, index = False)"
   ]
  },
  {
   "cell_type": "code",
   "execution_count": 9,
   "metadata": {},
   "outputs": [],
   "source": [
    "# Export salary as csv file for further analysis in R\n",
    "export_csv = salary.to_csv (r'customer_id.csv', header=True, index = False)"
   ]
  },
  {
   "cell_type": "markdown",
   "metadata": {},
   "source": [
    "# Merge annual_salary with df"
   ]
  },
  {
   "cell_type": "code",
   "execution_count": 10,
   "metadata": {},
   "outputs": [],
   "source": [
    "# Drop columns that already exist in df\n",
    "salary = salary.drop(['amount','gender','age'], axis=1)"
   ]
  },
  {
   "cell_type": "code",
   "execution_count": 11,
   "metadata": {},
   "outputs": [],
   "source": [
    "# Merge annual salary with full dataset\n",
    "df = pd.merge(df, salary, on='customer_id')"
   ]
  },
  {
   "cell_type": "code",
   "execution_count": 12,
   "metadata": {},
   "outputs": [],
   "source": [
    "# Export full dataframe with annual salary column for further analysis in R\n",
    "export_csv = df.to_csv (r'full_plus_as.csv', header=True, index = False)"
   ]
  },
  {
   "cell_type": "code",
   "execution_count": null,
   "metadata": {},
   "outputs": [],
   "source": []
  },
  {
   "cell_type": "code",
   "execution_count": null,
   "metadata": {},
   "outputs": [],
   "source": []
  },
  {
   "cell_type": "code",
   "execution_count": null,
   "metadata": {},
   "outputs": [],
   "source": []
  },
  {
   "cell_type": "code",
   "execution_count": null,
   "metadata": {},
   "outputs": [],
   "source": []
  },
  {
   "cell_type": "code",
   "execution_count": null,
   "metadata": {},
   "outputs": [],
   "source": []
  },
  {
   "cell_type": "markdown",
   "metadata": {},
   "source": [
    "Keep as may need later"
   ]
  },
  {
   "cell_type": "code",
   "execution_count": null,
   "metadata": {},
   "outputs": [],
   "source": [
    "# df[['long','lat']] = df.long_lat .str.split(\" \",expand=True,)"
   ]
  },
  {
   "cell_type": "code",
   "execution_count": null,
   "metadata": {},
   "outputs": [],
   "source": [
    "# df['long'] = df['long'].astype(float)\n",
    "# df['lat'] = df['lat'].astype(float)"
   ]
  },
  {
   "cell_type": "code",
   "execution_count": null,
   "metadata": {},
   "outputs": [],
   "source": []
  }
 ],
 "metadata": {
  "kernelspec": {
   "display_name": "Python 3 (ipykernel)",
   "language": "python",
   "name": "python3"
  },
  "language_info": {
   "codemirror_mode": {
    "name": "ipython",
    "version": 3
   },
   "file_extension": ".py",
   "mimetype": "text/x-python",
   "name": "python",
   "nbconvert_exporter": "python",
   "pygments_lexer": "ipython3",
   "version": "3.12.11"
  }
 },
 "nbformat": 4,
 "nbformat_minor": 4
}
